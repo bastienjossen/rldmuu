{
 "cells": [
  {
   "cell_type": "code",
   "execution_count": 10,
   "id": "9147c6e9",
   "metadata": {},
   "outputs": [],
   "source": [
    "import numpy as np"
   ]
  },
  {
   "cell_type": "code",
   "execution_count": 11,
   "id": "2c6470b1",
   "metadata": {},
   "outputs": [],
   "source": [
    "# define the utility function\n",
    "\n",
    "def log_utility(money):\n",
    "    if (money > 1):\n",
    "        return np.log(money)\n",
    "    else:\n",
    "        return money\n",
    "\n",
    "def linear_utility(money):\n",
    "    return money\n"
   ]
  },
  {
   "cell_type": "code",
   "execution_count": 22,
   "id": "46b1528b",
   "metadata": {},
   "outputs": [],
   "source": [
    "# there is not always a closed-form solution for the expected utility,\n",
    "# hence we are doing a numerical approximation\n",
    "def expected_utility(starting_capital, payment, utility_function):\n",
    "    EU = 0\n",
    "    p_stop = 0.5\n",
    "    gain = 2\n",
    "    for stopping in range(100):\n",
    "        # fill in\n",
    "    return EU"
   ]
  },
  {
   "cell_type": "code",
   "execution_count": null,
   "id": "06c9f418",
   "metadata": {},
   "outputs": [],
   "source": [
    "utility_function = log_utility\n",
    "starting_capital = 100"
   ]
  },
  {
   "cell_type": "code",
   "execution_count": null,
   "id": "437890ed",
   "metadata": {},
   "outputs": [],
   "source": [
    "for payment in range(starting_capital):\n",
    "    # expected utility of not playing\n",
    "    no_play_util = utility_function(payment)\n",
    "    # expected utility of playing\n",
    "    play_exp_util = ...\n",
    "    \n",
    "    print(play_exp_util, no_play_util)\n",
    "    if (play_exp_util < no_play_util):\n",
    "        print(\"Not playing if payment larger than \", payment, \" out of \", starting_capital, \"starting capital\")\n",
    "        break"
   ]
  }
 ],
 "metadata": {
  "kernelspec": {
   "display_name": "Python 3 (ipykernel)",
   "language": "python",
   "name": "python3"
  },
  "language_info": {
   "codemirror_mode": {
    "name": "ipython",
    "version": 3
   },
   "file_extension": ".py",
   "mimetype": "text/x-python",
   "name": "python",
   "nbconvert_exporter": "python",
   "pygments_lexer": "ipython3",
   "version": "3.10.6"
  }
 },
 "nbformat": 4,
 "nbformat_minor": 5
}
