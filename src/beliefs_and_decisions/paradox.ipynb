{
 "cells": [
  {
   "cell_type": "code",
   "execution_count": 10,
   "id": "edbe81d3-e0f5-4dbe-a7ad-202e00b95faf",
   "metadata": {},
   "outputs": [],
   "source": [
    "import numpy as np"
   ]
  },
  {
   "cell_type": "code",
   "execution_count": 11,
   "id": "cb13ea34",
   "metadata": {},
   "outputs": [],
   "source": [
    "# define the utility function\n",
    "\n",
    "def log_utility(money):\n",
    "    if (money > 1):\n",
    "        return np.log(money)\n",
    "    else:\n",
    "        return money\n",
    "\n",
    "def linear_utility(money):\n",
    "    return money\n"
   ]
  },
  {
   "cell_type": "code",
   "execution_count": 22,
   "id": "1cbfdf20",
   "metadata": {},
   "outputs": [],
   "source": [
    "# there is not always a closed-form solution for the expected utility,\n",
    "# hence we are doing a numerical approximation\n",
    "def expected_utility(starting_capital, payment, utility_function):\n",
    "    EU = 0\n",
    "    p_stop = 0.5\n",
    "    gain = 2\n",
    "    for stopping in range(100):\n",
    "    # fill in\n",
    "    return EU"
   ]
  },
  {
   "cell_type": "code",
   "execution_count": 23,
   "id": "f516d81d",
   "metadata": {},
   "outputs": [
    {
     "name": "stdout",
     "output_type": "stream",
     "text": [
      "4.681120713849343 4.605170185988092\n",
      "4.671692252918981 4.605170185988092\n",
      "4.662172966353593 4.605170185988092\n",
      "4.652561077275528 4.605170185988092\n",
      "4.642854755959364 4.605170185988092\n",
      "4.633052117709696 4.605170185988092\n",
      "4.623151220631081 4.605170185988092\n",
      "4.613150063283495 4.605170185988092\n",
      "4.603046582216192 4.605170185988092\n",
      "Not playing if payment larger than  8  out of  100 starting capital\n"
     ]
    }
   ],
   "source": [
    "utility_function = log_utility\n",
    "starting_capital = 100\n",
    "no_play_util = utility_function(starting_capital)\n",
    "for payment in range(starting_capital):\n",
    "    play_exp_util = expected_utility(starting_capital, payment, utility_function)\n",
    "    print(play_exp_util, no_play_util)\n",
    "    if (play_exp_util < no_play_util):\n",
    "        print(\"Not playing if payment larger than \", payment, \" out of \", starting_capital, \"starting capital\")\n",
    "        break\n"
   ]
  },
  {
   "cell_type": "code",
   "execution_count": 14,
   "id": "12ad1384",
   "metadata": {},
   "outputs": [
    {
     "data": {
      "text/plain": [
       "1.3862943611198906"
      ]
     },
     "execution_count": 14,
     "metadata": {},
     "output_type": "execute_result"
    }
   ],
   "source": [
    "expected_utility(0, 0, utility_function)"
   ]
  },
  {
   "cell_type": "code",
   "execution_count": 5,
   "id": "a805713a",
   "metadata": {},
   "outputs": [
    {
     "ename": "TypeError",
     "evalue": "loop of ufunc does not support argument 0 of type int which has no callable log method",
     "output_type": "error",
     "traceback": [
      "\u001b[0;31m---------------------------------------------------------------------------\u001b[0m",
      "\u001b[0;31mAttributeError\u001b[0m                            Traceback (most recent call last)",
      "\u001b[0;31mAttributeError\u001b[0m: 'int' object has no attribute 'log'",
      "\nThe above exception was the direct cause of the following exception:\n",
      "\u001b[0;31mTypeError\u001b[0m                                 Traceback (most recent call last)",
      "\u001b[0;32m<ipython-input-5-7d6eb7e701d9>\u001b[0m in \u001b[0;36m<module>\u001b[0;34m\u001b[0m\n\u001b[0;32m----> 1\u001b[0;31m \u001b[0mnp\u001b[0m\u001b[0;34m.\u001b[0m\u001b[0mlog\u001b[0m\u001b[0;34m(\u001b[0m\u001b[0;36m18446744073709551716\u001b[0m\u001b[0;34m)\u001b[0m\u001b[0;34m\u001b[0m\u001b[0;34m\u001b[0m\u001b[0m\n\u001b[0m",
      "\u001b[0;31mTypeError\u001b[0m: loop of ufunc does not support argument 0 of type int which has no callable log method"
     ]
    }
   ],
   "source": [
    "np.log(18446744073709551716)"
   ]
  },
  {
   "cell_type": "code",
   "execution_count": null,
   "id": "111b230d",
   "metadata": {},
   "outputs": [],
   "source": []
  },
  {
   "cell_type": "code",
   "execution_count": null,
   "id": "da8aaf4f",
   "metadata": {},
   "outputs": [],
   "source": []
  }
 ],
 "metadata": {
  "kernelspec": {
   "display_name": "Python 3",
   "language": "python",
   "name": "python3"
  },
  "language_info": {
   "codemirror_mode": {
    "name": "ipython",
    "version": 3
   },
   "file_extension": ".py",
   "mimetype": "text/x-python",
   "name": "python",
   "nbconvert_exporter": "python",
   "pygments_lexer": "ipython3",
   "version": "3.6.9"
  }
 },
 "nbformat": 4,
 "nbformat_minor": 5
}
