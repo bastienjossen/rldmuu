{
 "cells": [
  {
   "cell_type": "code",
   "execution_count": 23,
   "metadata": {},
   "outputs": [],
   "source": [
    "import numpy as np\n",
    "\n",
    "## A simple utility function with the shape\n",
    "## \n",
    "## -1  10\n",
    "##  1   0\n",
    "##\n",
    "## In this utility function, \n",
    "class Utility():\n",
    "    def __init__(self):\n",
    "        self.U = np.zeros([2,2])\n",
    "        self.U[0,0]=-1\n",
    "        self.U[1,0]=1\n",
    "        self.U[0,1]=10\n",
    "        self.U[1,1]=0\n",
    "    def get_U(self, action, outcome):\n",
    "        return self.U[action, outcome]\n",
    "    def get_n_actions(self):\n",
    "        return self.U.shape[0]\n",
    "    def get_n_outcomes(self):\n",
    "        return self.U.shape[1]\n",
    "        "
   ]
  },
  {
   "cell_type": "code",
   "execution_count": 24,
   "metadata": {},
   "outputs": [],
   "source": [
    "## Inputs\n",
    "## utility: A Utility class instance\n",
    "## action: the action\n",
    "## P: an array so that P[outcome] is the probability of each outcome\n",
    "def expected_utility(utility, action, P):\n",
    "    # the utility of action a, if outcome is w, is utility.U(a,w)\n",
    "    return sum([utility.get_U(action, w)*P[w] for w in range(2)])\n",
    "\n",
    "\n",
    "## For a given P, get the optimal action, ie the one maximising expected utility\n",
    "def get_max_action(U, P):\n",
    "    v = np.zeros(U.get_n_actions())\n",
    "    for a in range(U.get_n_actions()):\n",
    "        v[a] = expected_utility(U, a, P)\n",
    "    return np.argmax(v)\n",
    "\n",
    "## For a given policy assigning probability policy[action] to each action, get the minimising outcome\n",
    "def get_min_outcome(U, policy):\n",
    "    return None\n",
    "\n",
    "## Find the worst-case distribution P, i.e. the one minimising\n",
    "## max_\\pi \\sum_{\\omega, a} P(\\omega) U(\\omega, a) \\pi(a)\n",
    "def get_worst_case_P(U):\n",
    "    return None\n"
   ]
  },
  {
   "cell_type": "code",
   "execution_count": 25,
   "metadata": {},
   "outputs": [],
   "source": [
    "# initialise the variables\n",
    "utility=Utility()\n",
    "n_actions = 2\n",
    "n_outcomes = 2\n",
    "P = np.random.uniform(size=2)\n",
    "P/= P.sum()"
   ]
  },
  {
   "cell_type": "code",
   "execution_count": 26,
   "metadata": {},
   "outputs": [],
   "source": [
    "a_star = get_max_action(utility, P)\n",
    "for a in range(n_actions):\n",
    "    assert(expected_utility(utility, a, P) <= expected_utility(utility, a_star, P))\n"
   ]
  },
  {
   "cell_type": "code",
   "execution_count": null,
   "metadata": {},
   "outputs": [],
   "source": []
  },
  {
   "cell_type": "code",
   "execution_count": null,
   "metadata": {},
   "outputs": [],
   "source": []
  }
 ],
 "metadata": {
  "kernelspec": {
   "display_name": "Python 3",
   "language": "python",
   "name": "python3"
  },
  "language_info": {
   "codemirror_mode": {
    "name": "ipython",
    "version": 3
   },
   "file_extension": ".py",
   "mimetype": "text/x-python",
   "name": "python",
   "nbconvert_exporter": "python",
   "pygments_lexer": "ipython3",
   "version": "3.8.10"
  }
 },
 "nbformat": 4,
 "nbformat_minor": 5
}
