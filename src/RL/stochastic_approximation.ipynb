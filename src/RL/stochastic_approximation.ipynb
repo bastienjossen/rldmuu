{
 "cells": [
  {
   "cell_type": "code",
   "execution_count": 1,
   "id": "177f4942",
   "metadata": {},
   "outputs": [
    {
     "name": "stdout",
     "output_type": "stream",
     "text": [
      "Defaulting to user installation because normal site-packages is not writeable\n",
      "Requirement already satisfied: gym in /home/olethros/.local/lib/python3.10/site-packages (0.26.2)\n",
      "Requirement already satisfied: numpy>=1.18.0 in /usr/lib/python3/dist-packages (from gym) (1.21.5)\n",
      "Requirement already satisfied: cloudpickle>=1.2.0 in /home/olethros/.local/lib/python3.10/site-packages (from gym) (3.0.0)\n",
      "Requirement already satisfied: gym-notices>=0.0.4 in /home/olethros/.local/lib/python3.10/site-packages (from gym) (0.0.8)\n"
     ]
    }
   ],
   "source": [
    "!pip install gym\n"
   ]
  },
  {
   "cell_type": "code",
   "execution_count": 2,
   "id": "bab5257e",
   "metadata": {},
   "outputs": [],
   "source": [
    "# Stochastic approximations\n",
    "#\n",
    "# Let us start with a simple problem, where we estimate the mean of a random variable\n",
    "import numpy as np\n",
    "E_X = 0.4\n",
    "T = 1000\n",
    "X = np.random.choice([0,1], size=T, p=[1-E_X, E_X])\n",
    "mean = np.zeros(T)\n",
    "# ... estimator\n"
   ]
  },
  {
   "cell_type": "code",
   "execution_count": 3,
   "id": "b33eb134",
   "metadata": {},
   "outputs": [],
   "source": [
    "import sys\n",
    "sys.path.insert(0, '../MDP')\n",
    "import MDP\n",
    "import chain\n"
   ]
  },
  {
   "cell_type": "code",
   "execution_count": 4,
   "id": "342fa6db",
   "metadata": {},
   "outputs": [],
   "source": [
    "# Monte-Carlo Estimation\n",
    "environment = chain.Chain(5)\n",
    "mdp = environment.getMDP()\n"
   ]
  },
  {
   "cell_type": "code",
   "execution_count": null,
   "id": "8416c0bf",
   "metadata": {},
   "outputs": [],
   "source": [
    "n_states = 5\n",
    "n_actions = 2\n",
    "for state in range(n_states):\n",
    "    for action in range(n_actions):\n",
    "        "
   ]
  }
 ],
 "metadata": {
  "kernelspec": {
   "display_name": "Python 3 (ipykernel)",
   "language": "python",
   "name": "python3"
  },
  "language_info": {
   "codemirror_mode": {
    "name": "ipython",
    "version": 3
   },
   "file_extension": ".py",
   "mimetype": "text/x-python",
   "name": "python",
   "nbconvert_exporter": "python",
   "pygments_lexer": "ipython3",
   "version": "3.10.12"
  }
 },
 "nbformat": 4,
 "nbformat_minor": 5
}
