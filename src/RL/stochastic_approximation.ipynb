{
 "cells": [
  {
   "cell_type": "code",
   "execution_count": 1,
   "id": "177f4942",
   "metadata": {},
   "outputs": [
    {
     "name": "stdout",
     "output_type": "stream",
     "text": [
      "Requirement already satisfied: gym in /home/olethros/.local/lib/python3.8/site-packages (0.26.2)\n",
      "Requirement already satisfied: importlib-metadata>=4.8.0; python_version < \"3.10\" in /home/olethros/.local/lib/python3.8/site-packages (from gym) (4.12.0)\n",
      "Requirement already satisfied: numpy>=1.18.0 in /home/olethros/.local/lib/python3.8/site-packages (from gym) (1.23.2)\n",
      "Requirement already satisfied: gym-notices>=0.0.4 in /home/olethros/.local/lib/python3.8/site-packages (from gym) (0.0.8)\n",
      "Requirement already satisfied: cloudpickle>=1.2.0 in /home/olethros/.local/lib/python3.8/site-packages (from gym) (2.2.0)\n",
      "Requirement already satisfied: zipp>=0.5 in /home/olethros/.local/lib/python3.8/site-packages (from importlib-metadata>=4.8.0; python_version < \"3.10\"->gym) (3.17.0)\n"
     ]
    }
   ],
   "source": [
    "!pip install gym\n"
   ]
  },
  {
   "cell_type": "code",
   "execution_count": 2,
   "id": "bab5257e",
   "metadata": {},
   "outputs": [
    {
     "data": {
      "text/plain": [
       "[<matplotlib.lines.Line2D at 0x7f5149c39580>]"
      ]
     },
     "execution_count": 2,
     "metadata": {},
     "output_type": "execute_result"
    },
    {
     "data": {
      "image/png": "[encoded data removed]",
      "text/plain": [
       "<Figure size 640x480 with 1 Axes>"
      ]
     },
     "metadata": {},
     "output_type": "display_data"
    }
   ],
   "source": [
    "# Stochastic approximations\n",
    "#\n",
    "# Let us start with a simple problem, where we estimate the mean of a random variable\n",
    "import numpy as np\n",
    "E_X = 0.4\n",
    "T = 1000\n",
    "X = np.random.choice([0,1], size=T, p=[1-E_X, E_X])\n",
    "mean = np.zeros(T)\n",
    "# ... estimator\n",
    "cmean = 0\n",
    "alpha = 0.001\n",
    "# For tih\n",
    "for t in range(T):\n",
    "    alpha = 0.1/(10 + t)\n",
    "    #cmean = (X[t] + cmean*t)/[t+1]\n",
    "    #cmean = X[t] / (t+1) + cmean  * t/(t+1)\n",
    "    #cmean = cmean - cmean + X[t] / (t+1) + cmean  * t/(t+1)\n",
    "    #cmean = cmean  + X[t] / (t+1) - cmean * (1)/(t+1)\n",
    "    cmean += (X[t] - cmean) * alpha\n",
    "    mean[t] = cmean\n",
    "import matplotlib.pyplot as plt\n",
    "plt.plot(mean)\n"
   ]
  },
  {
   "cell_type": "markdown",
   "id": "32cc64a0-d286-4452-baff-76f0cc3fc5bc",
   "metadata": {},
   "source": [
    "# Conditions\n",
    "\n",
    "$\\sum_t \\alpha_t = \\infty$ and\n",
    "$\\sum_t \\alpha_t^2 < \\infty$\n"
   ]
  },
  {
   "cell_type": "code",
   "execution_count": 3,
   "id": "b33eb134",
   "metadata": {},
   "outputs": [],
   "source": [
    "import sys\n",
    "sys.path.insert(0, '../MDP')\n",
    "import MDP\n",
    "import chain\n"
   ]
  },
  {
   "cell_type": "code",
   "execution_count": 4,
   "id": "342fa6db",
   "metadata": {},
   "outputs": [],
   "source": [
    "# Monte-Carlo Estimation\n",
    "environment = chain.Chain(5)\n",
    "mdp = environment.getMDP()\n"
   ]
  },
  {
   "cell_type": "markdown",
   "id": "8b6e36b6-efa4-4c38-8523-2147105cae47",
   "metadata": {},
   "source": [
    "# Approximation error\n",
    "\n",
    "After $T$ steps, the remaining reward is up to $\\gamma^T / (1 - \\gamma)$ for bounded rewards in $[0,1]$. This means that to get an approximation of $\\epsilon$,\n",
    "you need $T = \\ln \\epsilon (1 - \\gamma) / \\ln \\gamma$\n",
    "\n",
    "Alternatively, stop the simulation with probability $1 - \\gamma$ at each step. This give you an unbiased estimate."
   ]
  },
  {
   "cell_type": "code",
   "execution_count": 23,
   "id": "8416c0bf",
   "metadata": {},
   "outputs": [],
   "source": [
    "n_states = 5\n",
    "n_actions = 2\n",
    "gamma = 0.99\n",
    "\n",
    "Q = np.zeros([n_states, n_actions])\n",
    "N = np.zeros([n_states, n_actions])\n",
    "\n",
    "# here we assume we have a policy as an array\n",
    "policy = np.ones(n_states, dtype=int) \n",
    "\n",
    "for ex in range(10000):\n",
    "    state = np.random.choice(n_states)\n",
    "    action = np.random.choice(n_actions)\n",
    "    environment.state = state\n",
    "    utility = 0\n",
    "    saved_action = action\n",
    "    while (1):\n",
    "        new_state, reward, done, infos = environment.step(action)\n",
    "        utility += reward\n",
    "        if (np.random.uniform() < 1 - gamma):\n",
    "            break\n",
    "        action = policy[new_state]\n",
    "    Q[state, saved_action] += (utility - Q[state, saved_action])/(1 + N[state, saved_action])\n",
    "    N[state, saved_action] += 1"
   ]
  },
  {
   "cell_type": "code",
   "execution_count": 24,
   "id": "16513284-630f-44e6-856c-d87dd82afa74",
   "metadata": {},
   "outputs": [
    {
     "name": "stdout",
     "output_type": "stream",
     "text": [
      "[[16.41476091 16.36259542]\n",
      " [16.82404692 16.79379379]\n",
      " [16.46571136 17.16534653]\n",
      " [16.75727182 18.12562814]\n",
      " [18.58989899 17.55955956]]\n"
     ]
    }
   ],
   "source": [
    "print(Q)\n"
   ]
  },
  {
   "cell_type": "code",
   "execution_count": null,
   "id": "430b24fd-1c71-45ac-a4be-aabb7e1eef34",
   "metadata": {},
   "outputs": [],
   "source": []
  }
 ],
 "metadata": {
  "kernelspec": {
   "display_name": "Python 3 (ipykernel)",
   "language": "python",
   "name": "python3"
  },
  "language_info": {
   "codemirror_mode": {
    "name": "ipython",
    "version": 3
   },
   "file_extension": ".py",
   "mimetype": "text/x-python",
   "name": "python",
   "nbconvert_exporter": "python",
   "pygments_lexer": "ipython3",
   "version": "3.8.10"
  }
 },
 "nbformat": 4,
 "nbformat_minor": 5
}
