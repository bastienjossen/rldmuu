{
 "cells": [
  {
   "cell_type": "markdown",
   "metadata": {},
   "source": [
    "# PyTorch and Value function approximation\n",
    "\n",
    "RLDMUU, UniNE 2025, jakub.tluczek@unine.ch"
   ]
  },
  {
   "cell_type": "code",
   "execution_count": 41,
   "metadata": {},
   "outputs": [],
   "source": [
    "import torch\n",
    "import numpy as np"
   ]
  },
  {
   "cell_type": "markdown",
   "metadata": {},
   "source": [
    "### Tensors"
   ]
  },
  {
   "cell_type": "markdown",
   "metadata": {},
   "source": [
    "Tensor is the data structure specific to deep learning frameworks. They're designed to run on hardware accelerators (GPUs), making training times significantly shorter, as well as they're optimized for automatic differentiation, a central concept in deep learning. They can be initialized in following ways:"
   ]
  },
  {
   "cell_type": "code",
   "execution_count": 42,
   "metadata": {},
   "outputs": [
    {
     "name": "stdout",
     "output_type": "stream",
     "text": [
      "Data type: <class 'list'>\n",
      "[[1, 2, 3], [4, 5, 6], [7, 8, 9]]\n",
      "\n",
      "Data type: <class 'torch.Tensor'>\n",
      "tensor([[1, 2, 3],\n",
      "        [4, 5, 6],\n",
      "        [7, 8, 9]])\n"
     ]
    }
   ],
   "source": [
    "# matrix which will serve as the base for tensor initializations\n",
    "raw_data = [\n",
    "    [1, 2, 3],\n",
    "    [4, 5, 6],\n",
    "    [7, 8, 9]\n",
    "]\n",
    "\n",
    "print(f\"Data type: {type(raw_data)}\")\n",
    "print(raw_data)\n",
    "\n",
    "# creating tensor\n",
    "tensor_from_raw_data = torch.tensor(raw_data)\n",
    "\n",
    "print(f\"\\nData type: {type(tensor_from_raw_data)}\")\n",
    "print(tensor_from_raw_data)\n"
   ]
  },
  {
   "cell_type": "markdown",
   "metadata": {},
   "source": [
    "Tensors can also be created from numpy arrays, retaining their attributes:"
   ]
  },
  {
   "cell_type": "code",
   "execution_count": 43,
   "metadata": {},
   "outputs": [
    {
     "name": "stdout",
     "output_type": "stream",
     "text": [
      "Data type: <class 'numpy.ndarray'>\n",
      "[[1. 2. 3.]\n",
      " [4. 5. 6.]\n",
      " [7. 8. 9.]]\n",
      "\n",
      "Data type: <class 'torch.Tensor'>\n",
      "tensor([[1., 2., 3.],\n",
      "        [4., 5., 6.],\n",
      "        [7., 8., 9.]], dtype=torch.float64)\n",
      "\n",
      "Data type: <class 'numpy.ndarray'>\n",
      "[[1. 2. 3.]\n",
      " [4. 5. 6.]\n",
      " [7. 8. 9.]]\n"
     ]
    }
   ],
   "source": [
    "# creating a numpy array from the data, with float datatype\n",
    "numpy_from_raw_data = np.array(raw_data, dtype=np.float64)\n",
    "\n",
    "print(f\"Data type: {type(numpy_from_raw_data)}\")\n",
    "print(numpy_from_raw_data)\n",
    "\n",
    "tensor_from_numpy = torch.from_numpy(numpy_from_raw_data)\n",
    "\n",
    "print(f\"\\nData type: {type(tensor_from_numpy)}\")\n",
    "print(tensor_from_numpy)\n",
    "\n",
    "print(f\"\\nData type: {type(tensor_from_numpy.numpy())}\")\n",
    "print(tensor_from_numpy.numpy())\n"
   ]
  },
  {
   "cell_type": "markdown",
   "metadata": {},
   "source": [
    "Single element tensors, used for example as trackers of some statistic, can be converted into numerical value by calling the `item()` method:"
   ]
  },
  {
   "cell_type": "code",
   "execution_count": 44,
   "metadata": {},
   "outputs": [
    {
     "name": "stdout",
     "output_type": "stream",
     "text": [
      "Data type: <class 'torch.Tensor'>\n",
      "tensor(9)\n",
      "\n",
      "Data type: <class 'int'>\n",
      "9\n"
     ]
    }
   ],
   "source": [
    "single_element_tensor = torch.tensor(9)\n",
    "\n",
    "print(f\"Data type: {type(single_element_tensor)}\")\n",
    "print(single_element_tensor)\n",
    "\n",
    "print(f\"\\nData type: {type(single_element_tensor.item())}\")\n",
    "print(single_element_tensor.item())\n"
   ]
  },
  {
   "cell_type": "markdown",
   "metadata": {},
   "source": [
    "Just as in numpy, tensors with predetermined values can be created, based only on shape (passed to the function as a tuple)."
   ]
  },
  {
   "cell_type": "code",
   "execution_count": 45,
   "metadata": {},
   "outputs": [
    {
     "name": "stdout",
     "output_type": "stream",
     "text": [
      "Random tensor\n",
      "tensor([[0.2466, 0.9840, 0.9272],\n",
      "        [0.3458, 0.7912, 0.2424]])\n",
      "\n",
      "Tensor of zeros\n",
      "tensor([[0., 0., 0.],\n",
      "        [0., 0., 0.]])\n",
      "\n",
      "Tensor of ones\n",
      "tensor([[1., 1., 1.],\n",
      "        [1., 1., 1.]])\n",
      "\n",
      "Tensor of arbitrary values\n",
      "tensor([[9, 9, 9],\n",
      "        [9, 9, 9]])\n",
      "\n",
      "Empty tensor\n",
      "tensor([[0., 0., 0.],\n",
      "        [0., 0., 0.]])\n"
     ]
    }
   ],
   "source": [
    "shape = (2,3,)\n",
    "\n",
    "print(\"Random tensor\")\n",
    "print(torch.rand(shape))\n",
    "\n",
    "print(\"\\nTensor of zeros\")\n",
    "print(torch.zeros(shape))\n",
    "\n",
    "print(\"\\nTensor of ones\")\n",
    "print(torch.ones(shape))\n",
    "\n",
    "print(\"\\nTensor of arbitrary values\")\n",
    "print(torch.full(shape, 9))\n",
    "\n",
    "print(\"\\nEmpty tensor\")\n",
    "print(torch.empty(shape))"
   ]
  },
  {
   "cell_type": "code",
   "execution_count": 46,
   "metadata": {},
   "outputs": [
    {
     "name": "stdout",
     "output_type": "stream",
     "text": [
      "Arange vector\n",
      "tensor([0, 1, 2, 3, 4])\n",
      "\n",
      "Linear space\n",
      "tensor([ 1.0000,  3.3333,  5.6667,  8.0000, 10.3333, 12.6667, 15.0000])\n",
      "\n",
      "Diagonal matrix\n",
      "tensor([[1., 0., 0.],\n",
      "        [0., 1., 0.],\n",
      "        [0., 0., 1.]])\n"
     ]
    }
   ],
   "source": [
    "print(\"Arange vector\")\n",
    "print(torch.arange(5))\n",
    "\n",
    "print(\"\\nLinear space\")\n",
    "print(torch.linspace(start=1, end=15, steps=7))\n",
    "\n",
    "print(\"\\nDiagonal matrix\")\n",
    "print(torch.eye(3))"
   ]
  },
  {
   "cell_type": "markdown",
   "metadata": {},
   "source": [
    "Each tensor is created on CPU device as a default. If CUDA (Nvidia's parallel computing platform) is available, then tensor can be moved to CUDA by `to` method:"
   ]
  },
  {
   "cell_type": "code",
   "execution_count": 47,
   "metadata": {},
   "outputs": [
    {
     "name": "stdout",
     "output_type": "stream",
     "text": [
      "CUDA is available: False\n",
      "Default device: cpu\n",
      "Mapped to CUDA: cpu\n"
     ]
    }
   ],
   "source": [
    "device = torch.device('cuda' if torch.cuda.is_available() else 'cpu')\n",
    "print(f\"CUDA is available: {torch.cuda.is_available()}\")\n",
    "\n",
    "print(f\"Default device: {tensor_from_raw_data.device}\")\n",
    "print(f\"Mapped to CUDA: {tensor_from_raw_data.to(device=device).device}\")"
   ]
  },
  {
   "cell_type": "markdown",
   "metadata": {},
   "source": [
    "Each tensor can be subject to several operations:"
   ]
  },
  {
   "cell_type": "code",
   "execution_count": 48,
   "metadata": {},
   "outputs": [
    {
     "name": "stdout",
     "output_type": "stream",
     "text": [
      "tensor([[1, 2, 3],\n",
      "        [4, 5, 6],\n",
      "        [7, 8, 9]])\n",
      "tensor([4, 5, 6])\n",
      "tensor([2, 5, 8])\n",
      "tensor([3, 6, 9])\n"
     ]
    }
   ],
   "source": [
    "# Slicing\n",
    "print(tensor_from_raw_data)\n",
    "print(tensor_from_raw_data[1])\n",
    "print(tensor_from_raw_data[:, 1])\n",
    "print(tensor_from_raw_data[:, -1])"
   ]
  },
  {
   "cell_type": "code",
   "execution_count": 49,
   "metadata": {},
   "outputs": [
    {
     "name": "stdout",
     "output_type": "stream",
     "text": [
      "tensor([1, 4, 7, 2, 5, 8, 3, 6, 9])\n"
     ]
    }
   ],
   "source": [
    "# concatenation\n",
    "col1 = tensor_from_raw_data[:, 0]\n",
    "col2 = tensor_from_raw_data[:, 1]\n",
    "col3 = tensor_from_raw_data[:, -1]\n",
    "\n",
    "print(torch.cat((col1, col2, col3)))\n"
   ]
  },
  {
   "cell_type": "code",
   "execution_count": 50,
   "metadata": {},
   "outputs": [
    {
     "name": "stdout",
     "output_type": "stream",
     "text": [
      "[tensor([1, 4, 7]), tensor([2, 5, 8]), tensor([3, 6, 9])]\n",
      "tensor([[1, 4, 7],\n",
      "        [2, 5, 8],\n",
      "        [3, 6, 9]])\n"
     ]
    }
   ],
   "source": [
    "# stacking \n",
    "print([col1, col2, col3])\n",
    "print(torch.stack([col1, col2, col3]))"
   ]
  },
  {
   "cell_type": "code",
   "execution_count": 51,
   "metadata": {},
   "outputs": [
    {
     "name": "stdout",
     "output_type": "stream",
     "text": [
      "tensor([[[-0.0423,  0.5605, -0.0405],\n",
      "         [-0.8575,  1.6646,  0.5269],\n",
      "         [-2.2264,  0.6034,  0.2005],\n",
      "         [-1.1817, -0.6824, -1.4117]],\n",
      "\n",
      "        [[-1.4857, -0.0395, -1.0686],\n",
      "         [-0.5139,  0.5180, -0.6239],\n",
      "         [ 2.2316,  0.9230,  0.1305],\n",
      "         [ 0.3880,  0.5890,  1.3014]]])\n",
      "Tensor size: torch.Size([2, 4, 3])\n",
      "tensor([[[-0.0423, -1.4857],\n",
      "         [ 0.5605, -0.0395],\n",
      "         [-0.0405, -1.0686]],\n",
      "\n",
      "        [[-0.8575, -0.5139],\n",
      "         [ 1.6646,  0.5180],\n",
      "         [ 0.5269, -0.6239]],\n",
      "\n",
      "        [[-2.2264,  2.2316],\n",
      "         [ 0.6034,  0.9230],\n",
      "         [ 0.2005,  0.1305]],\n",
      "\n",
      "        [[-1.1817,  0.3880],\n",
      "         [-0.6824,  0.5890],\n",
      "         [-1.4117,  1.3014]]])\n",
      "Tensor size: torch.Size([4, 3, 2])\n"
     ]
    }
   ],
   "source": [
    "# permuting dimensions\n",
    "x = torch.randn(2, 4, 3)\n",
    "print(x)\n",
    "print(f\"Tensor size: {x.size()}\")\n",
    "x_p = torch.permute(x, (1, 2, 0))\n",
    "print(x_p)\n",
    "print(f\"Tensor size: {x_p.size()}\")"
   ]
  },
  {
   "cell_type": "code",
   "execution_count": 52,
   "metadata": {},
   "outputs": [
    {
     "name": "stdout",
     "output_type": "stream",
     "text": [
      "tensor([[[[[0., 0.]],\n",
      "\n",
      "          [[0., 0.]]]],\n",
      "\n",
      "\n",
      "\n",
      "        [[[[0., 0.]],\n",
      "\n",
      "          [[0., 0.]]]]])\n",
      "Size: torch.Size([2, 1, 2, 1, 2])\n",
      "tensor([[[0., 0.],\n",
      "         [0., 0.]],\n",
      "\n",
      "        [[0., 0.],\n",
      "         [0., 0.]]])\n",
      "Size: torch.Size([2, 2, 2])\n"
     ]
    }
   ],
   "source": [
    "# squeezing (removing dimensions of size 1)\n",
    "x = torch.zeros(2,1,2,1,2)\n",
    "print(x)\n",
    "print(f\"Size: {x.size()}\")\n",
    "print(x.squeeze())\n",
    "print(f\"Size: {x.squeeze().size()}\")\n"
   ]
  },
  {
   "cell_type": "code",
   "execution_count": 53,
   "metadata": {},
   "outputs": [
    {
     "name": "stdout",
     "output_type": "stream",
     "text": [
      "torch.Size([4])\n",
      "tensor([[1, 2, 3, 4]])\n",
      "torch.Size([1, 4])\n",
      "tensor([[1],\n",
      "        [2],\n",
      "        [3],\n",
      "        [4]])\n",
      "torch.Size([4, 1])\n"
     ]
    }
   ],
   "source": [
    "# unsqueezing (adding dimension, i.e. adding another brackets in the tensor)\n",
    "x = torch.tensor([1, 2, 3, 4])\n",
    "print(x.size())\n",
    "print(torch.unsqueeze(x, 0))\n",
    "print(torch.unsqueeze(x, 0).size())\n",
    "print(torch.unsqueeze(x, 1))\n",
    "print(torch.unsqueeze(x, 1).size())"
   ]
  },
  {
   "cell_type": "code",
   "execution_count": 54,
   "metadata": {},
   "outputs": [
    {
     "name": "stdout",
     "output_type": "stream",
     "text": [
      "tensor([1, 2, 3, 4, 5, 6, 7, 8, 9])\n",
      "tensor([[1, 2, 3],\n",
      "        [4, 5, 6],\n",
      "        [7, 8, 9]])\n"
     ]
    }
   ],
   "source": [
    "# view \n",
    "print(tensor_from_raw_data.view(9))\n",
    "print(tensor_from_raw_data.view(3, -1))"
   ]
  },
  {
   "cell_type": "markdown",
   "metadata": {},
   "source": [
    "### Neural networks"
   ]
  },
  {
   "cell_type": "markdown",
   "metadata": {},
   "source": [
    "To construct neural network in PyTorch we have to use several building blocks available in `torch.nn` library"
   ]
  },
  {
   "cell_type": "code",
   "execution_count": 55,
   "metadata": {},
   "outputs": [],
   "source": [
    "import torch.nn as nn\n",
    "import torch.nn.functional as F"
   ]
  },
  {
   "cell_type": "markdown",
   "metadata": {},
   "source": [
    "Simple neural network inherits from `nn.Module` class, which implements several crucial methods for neural network computations. At least `forward` method is always overwritten to declare the forward pass in the network. The structure of neural network should be specified in  `__init__`."
   ]
  },
  {
   "cell_type": "code",
   "execution_count": 56,
   "metadata": {},
   "outputs": [],
   "source": [
    "class NeuralNetwork(nn.Module):\n",
    "    def __init__(self, input_size, output_size, hidden_dim):\n",
    "        super(NeuralNetwork, self).__init__()\n",
    "        self.linear1 = nn.Linear(input_size, hidden_dim)\n",
    "        self.linear2 = nn.Linear(hidden_dim, hidden_dim)\n",
    "        self.linear3 = nn.Linear(hidden_dim, output_size)\n",
    "\n",
    "    def forward(self, data):\n",
    "        x = F.relu(self.linear1(data))\n",
    "        x = F.relu(self.linear2(x))\n",
    "        return self.linear3(x)"
   ]
  },
  {
   "cell_type": "code",
   "execution_count": 57,
   "metadata": {},
   "outputs": [],
   "source": [
    "# declaring the instance of neural network model\n",
    "model = NeuralNetwork(input_size=16, output_size=4, hidden_dim=32).to(device)"
   ]
  },
  {
   "cell_type": "markdown",
   "metadata": {},
   "source": [
    "Following cell represents the typical flow for the classification problem, where class is assigned to the one that yields the biggest output:"
   ]
  },
  {
   "cell_type": "code",
   "execution_count": 58,
   "metadata": {},
   "outputs": [
    {
     "name": "stdout",
     "output_type": "stream",
     "text": [
      "tensor([-0.0061, -0.0468,  0.1944,  0.2110], grad_fn=<ViewBackward0>)\n",
      "Class: 3\n"
     ]
    }
   ],
   "source": [
    "# dummy input\n",
    "x = torch.rand(16, device=device)\n",
    "# scoring the model\n",
    "output = model(x)\n",
    "print(output)\n",
    "# getting probabilities via the softmax function\n",
    "probs = nn.Softmax(dim=0)(output)\n",
    "# getting the class\n",
    "choice = probs.argmax()\n",
    "print(f\"Class: {choice.item()}\")"
   ]
  },
  {
   "cell_type": "markdown",
   "metadata": {},
   "source": [
    "### Automatic differentiation"
   ]
  },
  {
   "cell_type": "markdown",
   "metadata": {},
   "source": [
    "Let's consider the following, simple computation graph - neural networks, though much more complicated, follow the same principle."
   ]
  },
  {
   "cell_type": "markdown",
   "metadata": {},
   "source": [
    "![image](comp-graph.png)"
   ]
  },
  {
   "cell_type": "code",
   "execution_count": 59,
   "metadata": {},
   "outputs": [],
   "source": [
    "# input of zeros\n",
    "x = torch.ones(5)\n",
    "# target of zeros\n",
    "y = torch.zeros(3)\n",
    "# weights and biases\n",
    "w = torch.randn(5, 3, requires_grad=True)\n",
    "b = torch.randn(3, requires_grad=True)\n",
    "# result to be compared against y\n",
    "z = torch.matmul(x, w) + b\n",
    "# loss function\n",
    "loss = F.binary_cross_entropy_with_logits(z, y)"
   ]
  },
  {
   "cell_type": "markdown",
   "metadata": {},
   "source": [
    "Backward pass, used to compute gradients:"
   ]
  },
  {
   "cell_type": "code",
   "execution_count": 60,
   "metadata": {},
   "outputs": [],
   "source": [
    "loss.backward()"
   ]
  },
  {
   "cell_type": "markdown",
   "metadata": {},
   "source": [
    "Computed gradients:"
   ]
  },
  {
   "cell_type": "code",
   "execution_count": 61,
   "metadata": {},
   "outputs": [
    {
     "name": "stdout",
     "output_type": "stream",
     "text": [
      "Weight matrix\n",
      "tensor([[-0.6454,  0.3370,  0.2454],\n",
      "        [ 0.3044, -0.2567, -0.7409],\n",
      "        [ 1.1230,  1.0866, -0.7360],\n",
      "        [ 2.0734,  0.8887, -0.3463],\n",
      "        [-0.2058,  1.4861, -1.5238]], requires_grad=True)\n",
      "\n",
      "Weight matrix gradient\n",
      "tensor([[0.3177, 0.2736, 0.0202],\n",
      "        [0.3177, 0.2736, 0.0202],\n",
      "        [0.3177, 0.2736, 0.0202],\n",
      "        [0.3177, 0.2736, 0.0202],\n",
      "        [0.3177, 0.2736, 0.0202]])\n"
     ]
    }
   ],
   "source": [
    "print(\"Weight matrix\")\n",
    "print(w)\n",
    "print(\"\\nWeight matrix gradient\")\n",
    "print(w.grad)"
   ]
  },
  {
   "cell_type": "code",
   "execution_count": 62,
   "metadata": {},
   "outputs": [
    {
     "name": "stdout",
     "output_type": "stream",
     "text": [
      "Bias vector\n",
      "tensor([ 0.3629, -2.0195,  0.3621], requires_grad=True)\n",
      "\n",
      "Bias vector gradient\n",
      "tensor([0.3177, 0.2736, 0.0202])\n"
     ]
    }
   ],
   "source": [
    "print(\"Bias vector\")\n",
    "print(b)\n",
    "print(\"\\nBias vector gradient\")\n",
    "print(b.grad)"
   ]
  },
  {
   "cell_type": "markdown",
   "metadata": {},
   "source": [
    "Gradients accumulation can be turned off either by `torch.no_grad` context manager, or by `detach`, which as name suggests, detaches tensor from the computation graph."
   ]
  },
  {
   "cell_type": "code",
   "execution_count": 63,
   "metadata": {},
   "outputs": [
    {
     "name": "stdout",
     "output_type": "stream",
     "text": [
      "True\n",
      "False\n",
      "False\n"
     ]
    }
   ],
   "source": [
    "z = torch.matmul(x, w) + b\n",
    "print(z.requires_grad)\n",
    "\n",
    "with torch.no_grad():\n",
    "    z = torch.matmul(x, w) + b\n",
    "print(z.requires_grad)\n",
    "\n",
    "z = torch.matmul(x, w) + b \n",
    "z_det = z.detach()\n",
    "print(z_det.requires_grad)"
   ]
  },
  {
   "cell_type": "markdown",
   "metadata": {},
   "source": [
    "PyTorch offers a wide range of optimizers, which apply the changes to parameters of the model with a given rate. One of the most popular is `Adam`, and we are going to use it throughout this exercise"
   ]
  },
  {
   "cell_type": "code",
   "execution_count": 64,
   "metadata": {},
   "outputs": [],
   "source": [
    "optim = torch.optim.Adam(params=model.parameters(), lr=1e-3)"
   ]
  },
  {
   "cell_type": "markdown",
   "metadata": {},
   "source": [
    "Let's go through the usual flow for updating the network:"
   ]
  },
  {
   "cell_type": "code",
   "execution_count": 65,
   "metadata": {},
   "outputs": [],
   "source": [
    "# dummy input data\n",
    "x = torch.rand(16, device=device)\n",
    "# dummy target\n",
    "dummy_target = torch.randn(4, device=device, dtype=torch.float)\n",
    "# Mean squared error loss - PyTorch offers a wide variety of loss functions, with the ability to declare our own \n",
    "loss_fn = nn.MSELoss()"
   ]
  },
  {
   "cell_type": "code",
   "execution_count": 66,
   "metadata": {},
   "outputs": [],
   "source": [
    "# resets preciously accumulated gradients to 0\n",
    "optim.zero_grad()\n",
    "# scoring the model\n",
    "output = model(x)\n",
    "# applying the loss function and computing gradients with backpropagation\n",
    "loss = loss_fn(output, dummy_target)\n",
    "loss.backward()\n",
    "# applying the gradients to change the parameters\n",
    "optim.step()"
   ]
  },
  {
   "cell_type": "markdown",
   "metadata": {},
   "source": [
    "## Value function approximation - Semi gradient"
   ]
  },
  {
   "cell_type": "markdown",
   "metadata": {},
   "source": [
    "The task here is to implement the value function approximation using neural network and semi gradient TD(0) algorithm for estimating $\\hat{v} \\approx v_{\\pi}$"
   ]
  },
  {
   "cell_type": "code",
   "execution_count": 67,
   "metadata": {},
   "outputs": [],
   "source": [
    "import gymnasium as gym\n",
    "# declaring the environment\n",
    "env = gym.make('CartPole-v1')\n",
    "# getting initial state\n",
    "state, info = env.reset()"
   ]
  },
  {
   "cell_type": "code",
   "execution_count": 68,
   "metadata": {},
   "outputs": [
    {
     "data": {
      "text/plain": [
       "array([-0.02071168, -0.00562686, -0.0059689 , -0.01244551], dtype=float32)"
      ]
     },
     "execution_count": 68,
     "metadata": {},
     "output_type": "execute_result"
    }
   ],
   "source": [
    "state"
   ]
  },
  {
   "cell_type": "markdown",
   "metadata": {},
   "source": [
    "Declaring neural network which will approximate the function - technically any parametrized and differentiable function would work (with varying success probably). Feel free to design your own architecture."
   ]
  },
  {
   "cell_type": "code",
   "execution_count": 69,
   "metadata": {},
   "outputs": [],
   "source": [
    "class ValueFunction(nn.Module):\n",
    "    def __init__(self, input_size, hidden_dim):\n",
    "        super(ValueFunction, self).__init__()\n",
    "        self.linear1 = nn.Linear(input_size, hidden_dim)\n",
    "        self.linear2 = nn.Linear(hidden_dim, hidden_dim)\n",
    "        self.linear3 = nn.Linear(hidden_dim, hidden_dim)\n",
    "        self.linear4 = nn.Linear(hidden_dim, 1)\n",
    "\n",
    "    def forward(self, data):\n",
    "        x = F.relu(self.linear1(data))\n",
    "        x = F.relu(self.linear2(x))\n",
    "        x = F.relu(self.linear3(x))\n",
    "        return self.linear4(x)"
   ]
  },
  {
   "cell_type": "code",
   "execution_count": 70,
   "metadata": {},
   "outputs": [],
   "source": [
    "model = ValueFunction(4, 64).to(device)\n",
    "optim = torch.optim.Adam(params=model.parameters(), lr=1e-4)"
   ]
  },
  {
   "cell_type": "markdown",
   "metadata": {},
   "source": [
    "Declaring $\\alpha$ and $\\gamma$ for temporal update"
   ]
  },
  {
   "cell_type": "code",
   "execution_count": 71,
   "metadata": {},
   "outputs": [],
   "source": [
    "alpha = 0.8\n",
    "gamma = 0.95"
   ]
  },
  {
   "cell_type": "markdown",
   "metadata": {},
   "source": [
    "As described in Chapter 9.3 of Sutton and Barto, update for each step is given as:\n",
    "\n",
    "$w \\leftarrow w + \\alpha[R + \\gamma \\hat{v}(S', w) - \\hat{v}(S, w)]\\nabla\\hat{v}(S,w) $"
   ]
  },
  {
   "cell_type": "code",
   "execution_count": 72,
   "metadata": {},
   "outputs": [
    {
     "name": "stderr",
     "output_type": "stream",
     "text": [
      "100%|██████████| 10000/10000 [00:04<00:00, 2029.26it/s]\n"
     ]
    }
   ],
   "source": [
    "from tqdm import tqdm \n",
    "for _ in tqdm(range(10000)):\n",
    "    action = env.action_space.sample()\n",
    "    next_state, reward, terminated, truncated, info = env.step(action)\n",
    "\n",
    "    optim.zero_grad()\n",
    "    output = model(torch.tensor(state).to(device))\n",
    "    loss = (alpha * (reward + gamma * model(torch.tensor(next_state).to(device)) - output))\n",
    "    loss.backward()\n",
    "    optim.step()\n",
    "\n",
    "    if terminated or truncated:\n",
    "        state, info = env.reset()\n",
    "    else:\n",
    "        state = next_state"
   ]
  },
  {
   "cell_type": "code",
   "execution_count": 84,
   "metadata": {},
   "outputs": [
    {
     "name": "stdout",
     "output_type": "stream",
     "text": [
      "tensor([43421.9062])\n"
     ]
    }
   ],
   "source": [
    "with torch.no_grad():\n",
    "    print(model(torch.tensor([0.00, 0, 0, 0]).to(device)))"
   ]
  },
  {
   "cell_type": "code",
   "execution_count": 74,
   "metadata": {},
   "outputs": [],
   "source": [
    "env.close()"
   ]
  },
  {
   "cell_type": "markdown",
   "metadata": {},
   "source": [
    "Similarly, we can consider a State-action approximation, which can be updated by:\n",
    "\n",
    "$w \\leftarrow w + \\alpha[R + \\gamma \\hat{Q}(S', A', w) - \\hat{Q}(S,A,w)]\\nabla\\hat{v}(S,w) $\n",
    "\n",
    "We can assume that current policy is greedy."
   ]
  },
  {
   "cell_type": "code",
   "execution_count": 75,
   "metadata": {},
   "outputs": [],
   "source": [
    "env = gym.make('CartPole-v1')\n",
    "state, info = env.reset()"
   ]
  },
  {
   "cell_type": "code",
   "execution_count": 76,
   "metadata": {},
   "outputs": [],
   "source": [
    "Q = ValueFunction(5, 64).to(device)\n",
    "optim = torch.optim.Adam(params=Q.parameters(), lr=1e-4)"
   ]
  },
  {
   "cell_type": "code",
   "execution_count": 77,
   "metadata": {},
   "outputs": [
    {
     "name": "stderr",
     "output_type": "stream",
     "text": [
      "100%|██████████| 20000/20000 [00:10<00:00, 1884.17it/s]\n"
     ]
    }
   ],
   "source": [
    "for _ in tqdm(range(20000)):\n",
    "    with torch.no_grad():\n",
    "        action = torch.argmax(torch.cat((\n",
    "                Q(torch.cat((torch.tensor(state).to(device), torch.tensor([0.]).to(device)))),\n",
    "                Q(torch.cat((torch.tensor(state).to(device), torch.tensor([1.]).to(device))))))).item()\n",
    "    next_state, reward, terminated, truncated, info = env.step(action)\n",
    "\n",
    "    if terminated or truncated:\n",
    "        state, info = env.reset()\n",
    "        continue\n",
    "    \n",
    "    with torch.no_grad():\n",
    "        next_action = torch.argmax(torch.cat((\n",
    "                        Q(torch.cat((torch.tensor(next_state).to(device), torch.tensor([0.]).to(device)))),\n",
    "                        Q(torch.cat((torch.tensor(next_state).to(device), torch.tensor([1.]).to(device))))))).item()\n",
    "\n",
    "    optim.zero_grad()\n",
    "    output = Q(torch.cat((torch.tensor(state).to(device), torch.tensor([action], dtype=torch.float).to(device))))\n",
    "    loss = (alpha * (reward + gamma *  Q(torch.cat((torch.tensor(next_state).to(device), torch.tensor([next_action], dtype=torch.float).to(device)))) - output))\n",
    "    loss.backward()\n",
    "    optim.step()\n",
    "\n",
    "    \n",
    "    state = next_state"
   ]
  },
  {
   "cell_type": "code",
   "execution_count": 85,
   "metadata": {},
   "outputs": [
    {
     "name": "stdout",
     "output_type": "stream",
     "text": [
      "tensor([138308.0625])\n"
     ]
    }
   ],
   "source": [
    "with torch.no_grad():\n",
    "    input_tensor = torch.cat((torch.tensor([0.00, 0, 0, 0]).to(device), torch.tensor([0.5]).to(device)))\n",
    "    print(Q(input_tensor))"
   ]
  },
  {
   "cell_type": "markdown",
   "metadata": {},
   "source": [
    "### References\n",
    "- PyTorch documentation\n",
    "- Sutton, Barto. Reinforcement Learning, Chapter 9.3"
   ]
  },
  {
   "cell_type": "code",
   "execution_count": 86,
   "metadata": {},
   "outputs": [],
   "source": [
    "w = torch.randn(8, requires_grad=True)\n",
    "v = lambda w: [2*w[0]+w[7], 2*w[1]+w[7], 2*w[2]+w[7], 2*w[3]+w[7], 2*w[4]+w[7], 2*w[5]+w[7], 2*w[6]+w[7]]"
   ]
  },
  {
   "cell_type": "code",
   "execution_count": 87,
   "metadata": {},
   "outputs": [
    {
     "data": {
      "text/plain": [
       "tensor([ 1.1289, -0.0998, -1.4284,  0.1055,  0.4191,  1.2902, -0.7145,  2.0257],\n",
       "       requires_grad=True)"
      ]
     },
     "execution_count": 87,
     "metadata": {},
     "output_type": "execute_result"
    }
   ],
   "source": [
    "w"
   ]
  },
  {
   "cell_type": "code",
   "execution_count": 89,
   "metadata": {},
   "outputs": [
    {
     "data": {
      "text/plain": [
       "[tensor(4.2836, grad_fn=<AddBackward0>),\n",
       " tensor(1.8262, grad_fn=<AddBackward0>),\n",
       " tensor(-0.8311, grad_fn=<AddBackward0>),\n",
       " tensor(2.2368, grad_fn=<AddBackward0>),\n",
       " tensor(2.8640, grad_fn=<AddBackward0>),\n",
       " tensor(4.6061, grad_fn=<AddBackward0>),\n",
       " tensor(0.5967, grad_fn=<AddBackward0>)]"
      ]
     },
     "execution_count": 89,
     "metadata": {},
     "output_type": "execute_result"
    }
   ],
   "source": [
    "v(w)"
   ]
  },
  {
   "cell_type": "code",
   "execution_count": null,
   "metadata": {},
   "outputs": [
    {
     "data": {
      "text/plain": [
       "array([[[0.16666667, 0.16666667, 0.16666667, 0.16666667, 0.16666667,\n",
       "         0.16666667, 0.        ],\n",
       "        [0.        , 0.        , 0.        , 0.        , 0.        ,\n",
       "         0.        , 1.        ]],\n",
       "\n",
       "       [[0.16666667, 0.16666667, 0.16666667, 0.16666667, 0.16666667,\n",
       "         0.16666667, 0.        ],\n",
       "        [0.        , 0.        , 0.        , 0.        , 0.        ,\n",
       "         0.        , 1.        ]],\n",
       "\n",
       "       [[0.16666667, 0.16666667, 0.16666667, 0.16666667, 0.16666667,\n",
       "         0.16666667, 0.        ],\n",
       "        [0.        , 0.        , 0.        , 0.        , 0.        ,\n",
       "         0.        , 1.        ]],\n",
       "\n",
       "       [[0.16666667, 0.16666667, 0.16666667, 0.16666667, 0.16666667,\n",
       "         0.16666667, 0.        ],\n",
       "        [0.        , 0.        , 0.        , 0.        , 0.        ,\n",
       "         0.        , 1.        ]],\n",
       "\n",
       "       [[0.16666667, 0.16666667, 0.16666667, 0.16666667, 0.16666667,\n",
       "         0.16666667, 0.        ],\n",
       "        [0.        , 0.        , 0.        , 0.        , 0.        ,\n",
       "         0.        , 1.        ]],\n",
       "\n",
       "       [[0.16666667, 0.16666667, 0.16666667, 0.16666667, 0.16666667,\n",
       "         0.16666667, 0.        ],\n",
       "        [0.        , 0.        , 0.        , 0.        , 0.        ,\n",
       "         0.        , 1.        ]],\n",
       "\n",
       "       [[0.16666667, 0.16666667, 0.16666667, 0.16666667, 0.16666667,\n",
       "         0.16666667, 0.        ],\n",
       "        [0.        , 0.        , 0.        , 0.        , 0.        ,\n",
       "         0.        , 1.        ]]])"
      ]
     },
     "execution_count": 90,
     "metadata": {},
     "output_type": "execute_result"
    }
   ],
   "source": [
    "P = np.zeros((7,2,7))\n",
    "P[:,0,:-1] = 1/6\n",
    "P[:, 1, 6] = 1"
   ]
  },
  {
   "cell_type": "code",
   "execution_count": 91,
   "metadata": {},
   "outputs": [],
   "source": [
    "policy = np.zeros((7,2))\n",
    "policy[:, 0] = 6/7\n",
    "policy[:, 1] = 1/7"
   ]
  },
  {
   "cell_type": "code",
   "execution_count": 92,
   "metadata": {},
   "outputs": [],
   "source": [
    "state = np.random.choice(6)\n",
    "next_state = np.random.choice(7, p=P[state, np.random.choice(2, p=policy[state]), :])"
   ]
  },
  {
   "cell_type": "code",
   "execution_count": null,
   "metadata": {},
   "outputs": [],
   "source": [
    "r = 0\n",
    "loss = alpha * (r + gamma * v(w)[next_state] - v(w)[state])"
   ]
  },
  {
   "cell_type": "code",
   "execution_count": null,
   "metadata": {},
   "outputs": [],
   "source": [
    "loss.backward()"
   ]
  },
  {
   "cell_type": "code",
   "execution_count": null,
   "metadata": {},
   "outputs": [
    {
     "data": {
      "text/plain": [
       "tensor([ 1.5200,  0.0000, -1.6000,  0.0000,  0.0000,  0.0000,  0.0000, -0.0400])"
      ]
     },
     "execution_count": 86,
     "metadata": {},
     "output_type": "execute_result"
    }
   ],
   "source": [
    "w.grad"
   ]
  },
  {
   "cell_type": "markdown",
   "metadata": {},
   "source": [
    "Update the $w$. Try and run this example multiple times and observe the value of $w_8$"
   ]
  },
  {
   "cell_type": "code",
   "execution_count": 100,
   "metadata": {},
   "outputs": [
    {
     "name": "stderr",
     "output_type": "stream",
     "text": [
      "  0%|          | 0/100000 [00:00<?, ?it/s]"
     ]
    },
    {
     "name": "stderr",
     "output_type": "stream",
     "text": [
      "100%|██████████| 100000/100000 [00:20<00:00, 4992.87it/s]\n"
     ]
    }
   ],
   "source": [
    "EPOCHS = 100000\n",
    "r = 0\n",
    "alpha = 0.1\n",
    "gamma = 0.95\n",
    "w = torch.randn(8, requires_grad=True)\n",
    "v = lambda w: [2*w[0]+w[7], 2*w[1]+w[7], 2*w[2]+w[7], 2*w[3]+w[7], 2*w[4]+w[7], 2*w[5]+w[7], 2*w[6]+w[7]]\n",
    "\n",
    "optim = torch.optim.Adam([w], lr=1e-3)\n",
    "\n",
    "P = np.zeros((7,2,7))\n",
    "P[:,0,:-1] = 1/6\n",
    "P[:, 1, 6] = 1 \n",
    "\n",
    "policy = np.zeros((7,2))\n",
    "policy[:, 0] = 6/7\n",
    "policy[:, 1] = 1/7\n",
    "\n",
    "state = np.random.choice(6)\n",
    "next_state = np.random.choice(7, p=P[state, np.random.choice(2, p=policy[state]), :])\n",
    "\n",
    "w_log = []\n",
    "\n",
    "for i in tqdm(range(EPOCHS)):\n",
    "    next_state = np.random.choice(7, p=P[state, np.random.choice(2, p=policy[state]), :])\n",
    "    optim.zero_grad()\n",
    "    loss = alpha * (r + gamma * v(w)[next_state] - v(w)[state])\n",
    "    loss.backward()\n",
    "    optim.step()\n",
    "    if state == 6:\n",
    "        state = np.random.choice(6)\n",
    "    else:\n",
    "        state = next_state\n",
    "    if i % 1000 == 0:\n",
    "        w_log.append(w.clone().detach().numpy())\n",
    "        "
   ]
  },
  {
   "cell_type": "code",
   "execution_count": 101,
   "metadata": {},
   "outputs": [
    {
     "data": {
      "image/png": "[encoded data removed]",
      "text/plain": [
       "<Figure size 640x480 with 1 Axes>"
      ]
     },
     "metadata": {},
     "output_type": "display_data"
    }
   ],
   "source": [
    "import matplotlib.pyplot as plt\n",
    "import seaborn as sns\n",
    "\n",
    "plt.plot(np.array(w_log)[:,-1], label='w_8')\n",
    "plt.plot(np.array(w_log)[:,0], label='w_1')\n",
    "plt.plot(np.array(w_log)[:,1], label='w_2')\n",
    "plt.plot(np.array(w_log)[:,2], label='w_3')\n",
    "plt.plot(np.array(w_log)[:,3], label='w_4')\n",
    "plt.plot(np.array(w_log)[:,4], label='w_5')\n",
    "plt.plot(np.array(w_log)[:,5], label='w_6')\n",
    "plt.plot(np.array(w_log)[:,6], label='w_7')\n",
    "plt.legend()\n",
    "plt.xlabel('Epochs (1e4)')\n",
    "plt.ylabel('Weights')\n",
    "plt.title('Weights over epochs')\n",
    "plt.show()"
   ]
  },
  {
   "cell_type": "code",
   "execution_count": 103,
   "metadata": {},
   "outputs": [
    {
     "data": {
      "image/png": "[encoded data removed]",
      "text/plain": [
       "<Figure size 640x480 with 1 Axes>"
      ]
     },
     "metadata": {},
     "output_type": "display_data"
    }
   ],
   "source": [
    "w_arr = np.array(w_log)  # shape: (num_samples, 8)\n",
    "for i in range(7):\n",
    "    plt.plot(w_arr[:, i], label=f'w[{i}]')\n",
    "plt.legend()\n",
    "plt.show()"
   ]
  },
  {
   "cell_type": "markdown",
   "metadata": {},
   "source": [
    "# Findings\n",
    "We can see that w_8 is the only parameter that increases at a larger  much larger rate than the others. w[6] is the only parameter that decreases."
   ]
  },
  {
   "cell_type": "markdown",
   "metadata": {},
   "source": []
  }
 ],
 "metadata": {
  "kernelspec": {
   "display_name": "RL",
   "language": "python",
   "name": "python3"
  },
  "language_info": {
   "codemirror_mode": {
    "name": "ipython",
    "version": 3
   },
   "file_extension": ".py",
   "mimetype": "text/x-python",
   "name": "python",
   "nbconvert_exporter": "python",
   "pygments_lexer": "ipython3",
   "version": "3.11.11"
  }
 },
 "nbformat": 4,
 "nbformat_minor": 2
}
