{
 "cells": [
  {
   "cell_type": "markdown",
   "metadata": {},
   "source": [
    "## RLDMUU 2025\n",
    "#### Decision making \n",
    "jakub.tluczek@unine.ch"
   ]
  },
  {
   "cell_type": "code",
   "metadata": {
    "ExecuteTime": {
     "end_time": "2025-02-25T10:11:20.220705Z",
     "start_time": "2025-02-25T10:11:20.096194Z"
    }
   },
   "source": [
    "import numpy as np"
   ],
   "outputs": [],
   "execution_count": 1
  },
  {
   "cell_type": "markdown",
   "metadata": {},
   "source": [
    "In today's lab we are going to consider the meteorologist problem. Assume there are $n$ weather stations, which predict what is the chance that it's going to rain or not. In the beginning we believe each weather station the same, that is, we believe that prior probability a given station is correct is equal to $\\frac{1}{n}$, and at any time prior probabilities sum up to 1. We consider a repeated problem, where we decide whether or not to take a coat outside. We're happy if we don't take the coat and it doesn't rain - after all we don't have to carry it around with ourselves. We are indifferent if it rains or not when we takea a coat - we're not getting wet after all. However, we really don't like if we don't take the coat and it rains, since we have the risk of getting sick. Our utility table can be summed up as follows:\n",
    "\n",
    "| U | no rain | rain |\n",
    "| - | --------| ---- |\n",
    "| no coat | 1 | -10 |\n",
    "| coat | 0 | 0 |\n",
    "\n",
    "Your task is to update the belief about the meteo stations after observing outcomes (if it rains or not) and pick the best corresponding action, both by calculating the expected utility or using the MAP approach. First, implement fucntions calculating the marginal forecast for a given outcome in `marginal_prediction`."
   ]
  },
  {
   "cell_type": "code",
   "metadata": {
    "ExecuteTime": {
     "end_time": "2025-02-25T13:15:46.907132Z",
     "start_time": "2025-02-25T13:15:46.894139Z"
    }
   },
   "source": [
    "def marginal_prediction(belief, forecast, outcome):\n",
    "    # TODO: return the marginal prediction for a given outcome (rains or not in our case) for all the stations\n",
    "    return belief @ forecast[:,outcome]"
   ],
   "outputs": [],
   "execution_count": 121
  },
  {
   "cell_type": "markdown",
   "metadata": {},
   "source": [
    "Then, calculate expected utilities, either using the forecasts (and associated priors!) from all stations, or just picking the one you trust the most with MAP."
   ]
  },
  {
   "cell_type": "code",
   "metadata": {
    "ExecuteTime": {
     "end_time": "2025-02-25T13:15:47.907596Z",
     "start_time": "2025-02-25T13:15:47.904279Z"
    }
   },
   "source": [
    "def expected_utility(belief, forecast, outcome, utility):\n",
    "    # TODO: calculate the expected utility for an outcome, given the prior beliefs, forecast and  utility matrix\n",
    "    outcome_prob = marginal_prediction(belief,forecast, outcome)\n",
    "    return np.mean(outcome_prob*utility[:,outcome])\n",
    "\n",
    "def expected_MAP_utility(belief, forecast, outcome, utility):\n",
    "    # TODO: Calculate the expected utility, using only the data from the station you trust the most\n",
    "    station = belief.index(max(belief))\n",
    "    forecast_prob = forecast[station,outcome]\n",
    "    return np.mean(forecast_prob*utility[:,outcome])\n"
   ],
   "outputs": [],
   "execution_count": 122
  },
  {
   "metadata": {},
   "cell_type": "markdown",
   "source": ""
  },
  {
   "cell_type": "markdown",
   "metadata": {},
   "source": [
    "Now it's time to pick the action that maximizes utility:"
   ]
  },
  {
   "cell_type": "code",
   "metadata": {
    "ExecuteTime": {
     "end_time": "2025-02-25T12:26:05.596061Z",
     "start_time": "2025-02-25T12:26:05.591838Z"
    }
   },
   "source": [
    "def best_action(belief, forecast, utility, use_map=False):\n",
    "    # TODO: pick the action that gives you maximal expected utility. MAP flag indicates whether you use this method or not\n",
    "    if use_map:\n",
    "        station = np.argmax(belief)\n",
    "        forecast_prob = forecast[station,:]\n",
    "        expected_util_action = utility @ forecast_prob\n",
    "        return np.argmax(expected_util_action)\n",
    "    else:\n",
    "        prob_outcomes = belief@forecast\n",
    "        expected_util_action = utility @ prob_outcomes.T\n",
    "        return np.argmax(expected_util_action)\n",
    "    pass"
   ],
   "outputs": [],
   "execution_count": 113
  },
  {
   "cell_type": "markdown",
   "metadata": {},
   "source": [
    "Finally, update the belief given the forecasts and actual outcome."
   ]
  },
  {
   "cell_type": "code",
   "metadata": {
    "ExecuteTime": {
     "end_time": "2025-02-25T12:31:33.106616Z",
     "start_time": "2025-02-25T12:31:33.100365Z"
    }
   },
   "source": [
    "def update_belief(belief, forecast, outcome):\n",
    "    # TODO: update the belief about whether the station is the one to be trusted or not. Return the belief\n",
    "    probabilities = forecast[:,outcome]\n",
    "    new_belief = probabilities*belief/np.sum(probabilities@belief)\n",
    "    return new_belief\n",
    "    pass"
   ],
   "outputs": [],
   "execution_count": 119
  },
  {
   "metadata": {},
   "cell_type": "markdown",
   "source": ""
  },
  {
   "cell_type": "code",
   "metadata": {
    "ExecuteTime": {
     "end_time": "2025-02-25T12:31:33.689011Z",
     "start_time": "2025-02-25T12:31:33.683569Z"
    }
   },
   "source": [
    "from enum import Enum\n",
    "\n",
    "class Outcome(Enum):\n",
    "    NO_RAIN = 0\n",
    "    RAIN = 1\n",
    "\n",
    "T = 4 # time horizon\n",
    "N = 3 # number of stations\n",
    "\n",
    "# forecast table with rain probabilites\n",
    "# each row represents a station\n",
    "forecasts = np.matrix('0.1 0.1 0.3 0.4; 0.4 0.1 0.6 0.7; 0.7 0.8 0.9 0.99')\n",
    "\n",
    "n_outcomes = 2\n",
    "# probability table placeholder for forecasts\n",
    "P = np.zeros([N, n_outcomes])\n",
    "# initial belief of 1/n for each station\n",
    "belief = np.ones(N) / N\n",
    "# actual events - whether it rained or not\n",
    "rain = [Outcome.NO_RAIN.value, Outcome.NO_RAIN.value, Outcome.RAIN.value, Outcome.NO_RAIN.value]\n",
    "\n",
    "for t in range(T):\n",
    "    for model in range(N):\n",
    "        # Filling up the probability table\n",
    "        P[model,1] = forecasts[model,t] # the table predictions give rain probabilities\n",
    "        P[model,0] = 1.0 - forecasts[model,t] # so no-rain probability is 1 - that\n",
    "    probability_of_rain = marginal_prediction(belief, P, Outcome.RAIN.value)\n",
    "    # declaring our utility matrix\n",
    "    U  = np.matrix('1 -10; 0 0')\n",
    "    # picking best actions\n",
    "    action = best_action(belief, P, U)\n",
    "    MAP_action = best_action(belief, P, U, use_map=True)\n",
    "    print(f\"RESULTS ROUND {t+1}\")\n",
    "    print(f\"Best action: {action}\\t MAP best action {MAP_action}\")\n",
    "    # updating beliefs\n",
    "    belief = update_belief(belief, P, rain[t])\n",
    "    print(\"New beliefs:\")\n",
    "    print(belief)\n"
   ],
   "outputs": [
    {
     "name": "stdout",
     "output_type": "stream",
     "text": [
      "RESULTS ROUND 1\n",
      "Best action: 1\t MAP best action 1\n",
      "New beliefs:\n",
      "[0.5        0.33333333 0.16666667]\n",
      "RESULTS ROUND 2\n",
      "Best action: 1\t MAP best action 1\n",
      "New beliefs:\n",
      "[0.57446809 0.38297872 0.04255319]\n",
      "RESULTS ROUND 3\n",
      "Best action: 1\t MAP best action 1\n",
      "New beliefs:\n",
      "[0.39130435 0.52173913 0.08695652]\n",
      "RESULTS ROUND 4\n",
      "Best action: 1\t MAP best action 1\n",
      "New beliefs:\n",
      "[0.59866962 0.39911308 0.00221729]\n"
     ]
    }
   ],
   "execution_count": 120
  },
  {
   "cell_type": "markdown",
   "metadata": {},
   "source": []
  }
 ],
 "metadata": {
  "kernelspec": {
   "display_name": "py10",
   "language": "python",
   "name": "python3"
  },
  "language_info": {
   "name": "python",
   "version": "3.10.16"
  }
 },
 "nbformat": 4,
 "nbformat_minor": 2
}
