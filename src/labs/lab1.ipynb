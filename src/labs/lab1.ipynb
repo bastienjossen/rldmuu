{
 "cells": [
  {
   "cell_type": "markdown",
   "metadata": {},
   "source": [
    "## RLDMUU 2025\n",
    "#### Beliefs and utility - St Petersburg paradox\n",
    "jakub.tluczek@unine.ch"
   ]
  },
  {
   "cell_type": "code",
   "execution_count": 3,
   "metadata": {},
   "outputs": [],
   "source": [
    "import numpy as np"
   ]
  },
  {
   "cell_type": "markdown",
   "metadata": {},
   "source": [
    "Today we are going to take a look at St Petersburg Paradox. Imagine a game, where you put a wager and coss the coin. If it lands on heads, you win $2^{\\text{round}}$, where round is an index of the round starting at 0. If it ever lands on tails, the game is over. An example game would look as follows:\n",
    "\n",
    "- Round 1: heads, we continue.\n",
    "- Round 2: heads, we continue.\n",
    "- Round 3: heads, we continue.\n",
    "- Round 4: tails, you get back 2^4 = 16 CHF.\n",
    "\n",
    "The probability of the coin landing $n - 1$ times on heads followed by one tails is $\\frac{1}{2^{n}}$, while the winnings in this case would be $2^n$. If we were to use the linear utility $U(x) = x$, then the expected utility $\\mathbb{E}\\left[ U(x) \\right] = \\sum_{n=1}^{\\infty} \\frac{2^n}{2^{n}} = \\infty$. \n",
    "\n",
    "To make things more realistic, you can also factor in some gamble $k$ and initial capital $C$, which you would be required to pay upfront to pay the game, $\\forall_{k,C} \\sum_{n=1}^{\\infty} \\frac{C + 2^n - k}{2^{n}} = \\infty$, therefore, according to the utility theory, paradoxically, you would be willing to pay maximum amount of money to enter, for any starting capital.\n",
    "\n",
    "Fill out the function `st_petersburg_expected_utility` which will give you expected utility for given utility function. You can pass a simple linear utility function and check,  if the utility indeed grows infinitely. The difficulty with calculating the expected utility is that this is an infinite sum. To approximate the infinite sum, you can either:\n",
    "\n",
    "(a) Truncate it to some fixed stopping time. This will underestimate the expected utility.\n",
    "(b) Perform the actual experiment many times (throwing a virtual coin, so to speak) and average the results. This will not underestimate the utility, but will be noisy."
   ]
  },
  {
   "cell_type": "code",
   "execution_count": null,
   "metadata": {},
   "outputs": [],
   "source": [
    "def linear_utility(x):\n",
    "    return x\n",
    "\n",
    "def st_petersburg_expected_utility(initial_capital, gamble, utility_function):\n",
    "    # TODO\n",
    "    pass"
   ]
  },
  {
   "cell_type": "markdown",
   "metadata": {},
   "source": [
    "Now instead of using linear utility implement following utility functions: \n",
    "- $U(x) = \\sqrt{x}$ \n",
    "- $U(x) = \\log(x)$\n",
    "- $U(x) = \\text{crra}(x, \\eta)$\n",
    "\n",
    "Where crra is a constant relative risk aversness function, and is defined as:\n",
    "\n",
    "$$\n",
    "\\text{crra}(x, \\eta) =\n",
    "\\begin{cases}\n",
    "\\frac{x^{1-\\eta}}{1-\\eta} & \\text{if } \\eta > 0, \\eta \\neq 1 \\\\\n",
    "\\ln x & \\text{if } \\eta = 1\n",
    "\\end{cases}\n",
    "$$"
   ]
  },
  {
   "cell_type": "code",
   "execution_count": null,
   "metadata": {},
   "outputs": [],
   "source": [
    "def sqrt_utility(x):\n",
    "    pass\n",
    "\n",
    "def log_utility(x):\n",
    "    pass\n",
    "\n",
    "def crra_utility(x, eta=0.5):\n",
    "    pass"
   ]
  },
  {
   "cell_type": "code",
   "execution_count": null,
   "metadata": {},
   "outputs": [],
   "source": [
    "CAPITAL = 10_000\n",
    "GAMBLE = 10\n",
    "UTILITY = sqrt_utility\n",
    "print(f\"Utility of playing:\\t{st_petersburg_expected_utility(CAPITAL, GAMBLE, UTILITY)}\")\n",
    "print(f\"Utility of not playing:\\t{UTILITY(CAPITAL)}\")"
   ]
  },
  {
   "cell_type": "markdown",
   "metadata": {},
   "source": [
    "Using above utilities and `st_petersburg_expected_utility` check, what are the maximum bets $k$ given different capitals $C$, at which it would make sense to enter the game. You can use `pyplot` to plot the maximum bets for different capitals. "
   ]
  }
 ],
 "metadata": {
  "kernelspec": {
   "display_name": "Python 3 (ipykernel)",
   "language": "python",
   "name": "python3"
  },
  "language_info": {
   "codemirror_mode": {
    "name": "ipython",
    "version": 3
   },
   "file_extension": ".py",
   "mimetype": "text/x-python",
   "name": "python",
   "nbconvert_exporter": "python",
   "pygments_lexer": "ipython3",
   "version": "3.10.12"
  }
 },
 "nbformat": 4,
 "nbformat_minor": 4
}
