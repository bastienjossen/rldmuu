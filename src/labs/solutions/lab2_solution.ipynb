{
 "cells": [
  {
   "cell_type": "markdown",
   "metadata": {},
   "source": [
    "## RLDMUU 2025\n",
    "#### Decision making \n",
    "jakub.tluczek@unine.ch"
   ]
  },
  {
   "cell_type": "code",
   "execution_count": 28,
   "metadata": {},
   "outputs": [],
   "source": [
    "import numpy as np"
   ]
  },
  {
   "cell_type": "markdown",
   "metadata": {},
   "source": [
    "In today's lab we are going to consider the meteorologist problem. Assume there are $n$ weather stations, which predict what is the chance that it's going to rain or not. In the beginning we believe each weather station the same, that is, we believe that prior probability a given station is correct is equal to $\\frac{1}{n}$, and at any time prior probabilities sum up to 1. We consider a repeated problem, where we decide whether or not to take a coat outside. We're happy if we don't take the coat and it doesn't rain - after all we don't have to carry it around with ourselves. We are indifferent if it rains or not when we takea a coat - we're not getting wet after all. However, we really don't like if we don't take the coat and it rains, since we have the risk of getting sick. Our utility table can be summed up as follows:\n",
    "\n",
    "| U | no rain | rain |\n",
    "| - | --------| ---- |\n",
    "| no coat | 1 | -10 |\n",
    "| coat | 0 | 0 |\n",
    "\n",
    "Your task is to update the belief about the meteo stations after observing outcomes (if it rains or not) and pick the best corresponding action, both by calculating the expected utility or using the MAP approach. First, implement fucntions calculating the marginal forecast for a given outcome in `marginal_prediction`."
   ]
  },
  {
   "cell_type": "code",
   "execution_count": 29,
   "metadata": {},
   "outputs": [],
   "source": [
    "def marginal_prediction(belief, forecast, outcome):\n",
    "    num_stations = len(belief)\n",
    "    outcome_probability = np.sum([forecast[i][outcome] * belief[i] for i in range(num_stations)])\n",
    "    return outcome_probability"
   ]
  },
  {
   "cell_type": "markdown",
   "metadata": {},
   "source": [
    "Then, calculate expected utilities, either using the forecasts (and associated priors!) from all stations, or just picking the one you trust the most with MAP."
   ]
  },
  {
   "cell_type": "code",
   "execution_count": 30,
   "metadata": {},
   "outputs": [],
   "source": [
    "def expected_utility(belief, forecast, action, utility):\n",
    "    num_outcomes = np.shape(forecast)[1]\n",
    "    E_utility = 0\n",
    "    for k in range(num_outcomes):\n",
    "        P_outcome = marginal_prediction(belief, forecast, k)\n",
    "        E_utility += utility[action, k] * P_outcome\n",
    "    return E_utility\n",
    "\n",
    "def expected_MAP_utility(belief, forecast, action, utility):\n",
    "    num_outcomes = np.shape(forecast)[1]\n",
    "    E_utility = 0\n",
    "    MAP_station = np.argmax(belief)\n",
    "    for k in range(num_outcomes):\n",
    "        P_outcome = forecast[MAP_station][k]\n",
    "        E_utility += utility[action, k] * P_outcome\n",
    "    return E_utility"
   ]
  },
  {
   "cell_type": "markdown",
   "metadata": {},
   "source": [
    "Now it's time to pick the action that maximizes utility:"
   ]
  },
  {
   "cell_type": "code",
   "execution_count": 31,
   "metadata": {},
   "outputs": [],
   "source": [
    "def best_action(belief, forecast, utility, use_map=False):\n",
    "    num_actions = np.shape(utility)[0]\n",
    "    action_value = np.zeros(num_actions)\n",
    "    for a in range(num_actions):\n",
    "        if use_map:\n",
    "            action_value[a] = expected_MAP_utility(belief, forecast, a, utility)\n",
    "        else:\n",
    "            action_value[a] = expected_utility(belief, forecast, a, utility)\n",
    "    return np.argmax(action_value)"
   ]
  },
  {
   "cell_type": "markdown",
   "metadata": {},
   "source": [
    "Finally, update the belief given the forecasts and actual outcome."
   ]
  },
  {
   "cell_type": "code",
   "execution_count": 32,
   "metadata": {},
   "outputs": [],
   "source": [
    "def update_belief(belief, forecast, outcome):\n",
    "    num_stations = len(belief)\n",
    "    station_posterior = np.zeros(num_stations)\n",
    "    for s in range(num_stations):\n",
    "        station_posterior[s] = forecast[s][outcome] * belief[s]\n",
    "    station_posterior /= marginal_prediction(belief, forecast, outcome)\n",
    "    return station_posterior"
   ]
  },
  {
   "cell_type": "code",
   "execution_count": null,
   "metadata": {},
   "outputs": [
    {
     "name": "stdout",
     "output_type": "stream",
     "text": [
      "RESULTS ROUND 1\n",
      "Best action: 1\t MAP best action 1\n",
      "New beliefs:\n",
      "[0.5        0.33333333 0.16666667]\n",
      "RESULTS ROUND 2\n",
      "Best action: 1\t MAP best action 1\n",
      "New beliefs:\n",
      "[0.57446809 0.38297872 0.04255319]\n",
      "RESULTS ROUND 3\n",
      "Best action: 1\t MAP best action 1\n",
      "New beliefs:\n",
      "[0.39130435 0.52173913 0.08695652]\n",
      "RESULTS ROUND 4\n",
      "Best action: 1\t MAP best action 1\n",
      "New beliefs:\n",
      "[0.59866962 0.39911308 0.00221729]\n"
     ]
    }
   ],
   "source": [
    "from enum import Enum\n",
    "\n",
    "class Outcome(Enum):\n",
    "    NO_RAIN = 0\n",
    "    RAIN = 1\n",
    "\n",
    "T = 4 # time horizon\n",
    "N = 3 # number of stations\n",
    "\n",
    "# forecast table with rain probabilites\n",
    "# each row represents a station\n",
    "forecasts = np.matrix('0.1 0.1 0.3 0.4; 0.4 0.1 0.6 0.7; 0.7 0.8 0.9 0.99')\n",
    "\n",
    "n_outcomes = 2\n",
    "# probability table placeholder for forecasts\n",
    "P = np.zeros([N, n_outcomes])\n",
    "# initial belief of 1/n for each station\n",
    "belief = np.ones(N) / N\n",
    "# actual events - whether it rained or not\n",
    "rain = [Outcome.NO_RAIN.value, Outcome.NO_RAIN.value, Outcome.RAIN.value, Outcome.NO_RAIN.value]\n",
    "\n",
    "for t in range(T):\n",
    "    for model in range(N):\n",
    "        # Filling up the probability table\n",
    "        P[model,1] = forecasts[model,t] # the table predictions give rain probabilities\n",
    "        P[model,0] = 1.0 - forecasts[model,t] # so no-rain probability is 1 - that\n",
    "    probability_of_rain = marginal_prediction(belief, P, Outcome.RAIN.value)\n",
    "    # declaring our utility matrix\n",
    "    U  = np.matrix('1 -10; 0 0')\n",
    "    # picking best actions\n",
    "    action = best_action(belief, P, U)\n",
    "    MAP_action = best_action(belief, P, U, use_map=True)\n",
    "    \n",
    "    print(f\"RESULTS ROUND {t+1}\")\n",
    "    print(f\"Best action: {action}\\t MAP best action {MAP_action}\")\n",
    "    # updating beliefs\n",
    "    belief = update_belief(belief, P, rain[t])\n",
    "    print(\"New beliefs:\")\n",
    "    print(belief)\n"
   ]
  }
 ],
 "metadata": {
  "kernelspec": {
   "display_name": "py10",
   "language": "python",
   "name": "python3"
  },
  "language_info": {
   "codemirror_mode": {
    "name": "ipython",
    "version": 3
   },
   "file_extension": ".py",
   "mimetype": "text/x-python",
   "name": "python",
   "nbconvert_exporter": "python",
   "pygments_lexer": "ipython3",
   "version": "3.10.16"
  }
 },
 "nbformat": 4,
 "nbformat_minor": 2
}
