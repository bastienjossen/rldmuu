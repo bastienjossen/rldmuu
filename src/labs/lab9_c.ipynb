{
 "cells": [
  {
   "cell_type": "markdown",
   "id": "a2d5abee",
   "metadata": {},
   "source": [
    "## DynaQ\n",
    "#### Model based RL\n",
    "jakub.tluczek@unine.ch"
   ]
  },
  {
   "cell_type": "markdown",
   "id": "3221dfed",
   "metadata": {},
   "source": [
    "In today's lab we are going to take a look at a model-based algorithm, introduced by Sutton & Barto. We can divide each iteration in 3 steps: \n",
    "\n",
    "- Performing classic Q-Learning update and acting $\\epsilon$-greedily on an environment\n",
    "- Updating the environment model $\\mu$\n",
    "- Planning, that is updating the Q-values according to the existing model"
   ]
  },
  {
   "cell_type": "code",
   "execution_count": 3,
   "id": "f40c68fe",
   "metadata": {},
   "outputs": [],
   "source": [
    "import numpy as np\n",
    "from tqdm import tqdm"
   ]
  },
  {
   "cell_type": "code",
   "execution_count": 4,
   "id": "c13414cf",
   "metadata": {},
   "outputs": [],
   "source": [
    "import gymnasium as gym\n",
    "\n",
    "env = gym.make('FrozenLake-v1')"
   ]
  },
  {
   "cell_type": "code",
   "execution_count": 5,
   "id": "9ec076fd",
   "metadata": {},
   "outputs": [],
   "source": [
    "state, info = env.reset()\n",
    "# useful for checking if the environment terminated\n",
    "done = False"
   ]
  },
  {
   "cell_type": "code",
   "execution_count": null,
   "id": "ca6ed41c",
   "metadata": {},
   "outputs": [],
   "source": [
    "class DynaQ:\n",
    "    def __init__(self, n_states, n_actions, alpha, gamma, epsilon, planning):\n",
    "        self.n_states = n_states\n",
    "        self.n_actions = n_actions\n",
    "        self.alpha = alpha\n",
    "        self.gamma = gamma \n",
    "        self.epsilon = epsilon \n",
    "        self.planning = planning\n",
    "\n",
    "        self.Q = np.zeros((n_states, n_actions))\n",
    "        self.mu = np.zeros((n_states, n_actions, 2), dtype=int) # For each (s,a) pair, the model outputs (r, s')\n",
    "        self.N = np.zeros((n_states, n_actions))\n",
    "\n",
    "    def act(self, state):\n",
    "        # act greedily\n",
    "        if np.random.rand() < self.epsilon:\n",
    "            return np.random.choice(self.n_actions)\n",
    "        else:\n",
    "            max_idxs = np.argwhere(self.Q[state,:] == np.amax(self.Q[state,:])).flatten()\n",
    "            return np.random.choice(max_idxs)\n",
    "        \n",
    "\n",
    "    def update(self, state, action, reward, next_state):\n",
    "        # TODO: Implement the DynaQ update\n",
    "        pass\n",
    "\n",
    "\n",
    "    def reset(self):\n",
    "        self.Q = np.zeros((self.n_states, self.n_actions))\n",
    "        self.mu = np.zeros((self.n_states, self.n_actions, 2)) # For each (s,a) pair, the model outputs (r, s')\n",
    "        self.N = np.zeros((self.n_states, self.n_actions))"
   ]
  },
  {
   "cell_type": "code",
   "execution_count": null,
   "id": "7fde2d68",
   "metadata": {},
   "outputs": [],
   "source": [
    "EPISODES = 10_000\n",
    "ITERATIONS = 100\n",
    "PLANNING_STEPS = 5\n",
    "\n",
    "ALPHA = 0.001\n",
    "GAMMA = 0.9\n",
    "EPSILON = 0.1\n",
    "\n",
    "nsteps = np.ones(EPISODES) * ITERATIONS\n",
    "mean_episode_rewards = np.zeros(EPISODES)\n",
    "\n",
    "algo = DynaQ(env.observation_space.n, env.action_space.n, ALPHA, GAMMA, EPSILON, PLANNING_STEPS)\n",
    "\n",
    "for e in tqdm(range(EPISODES)):\n",
    "    for i in range(ITERATIONS):\n",
    "        action = algo.act(state)\n",
    "        next_state, reward, done, truncated, info = env.step(action)\n",
    "        algo.update(state, action, reward, next_state)\n",
    "\n",
    "        if done or truncated:\n",
    "            state, info = env.reset()\n",
    "            done = False\n",
    "            truncated = False\n",
    "            if reward == 1:\n",
    "                nsteps[e] = i \n",
    "                mean_episode_rewards[e] = 1 / i\n",
    "            break\n",
    "\n",
    "        state = next_state"
   ]
  },
  {
   "cell_type": "code",
   "execution_count": null,
   "id": "2b2ad01b",
   "metadata": {},
   "outputs": [],
   "source": [
    "from matplotlib import pyplot as plt\n",
    "\n",
    "def running_mean(x, N):\n",
    "    cumsum = np.cumsum(np.insert(x, 0, 0)) \n",
    "    return (cumsum[N:] - cumsum[:-N]) / float(N)\n",
    "\n",
    "plt.plot(running_mean(mean_episode_rewards, 500))\n",
    "plt.title(\"Rolling average episodic rewards\")\n",
    "plt.grid()\n"
   ]
  }
 ],
 "metadata": {
  "kernelspec": {
   "display_name": "py10",
   "language": "python",
   "name": "python3"
  },
  "language_info": {
   "codemirror_mode": {
    "name": "ipython",
    "version": 3
   },
   "file_extension": ".py",
   "mimetype": "text/x-python",
   "name": "python",
   "nbconvert_exporter": "python",
   "pygments_lexer": "ipython3",
   "version": "3.10.16"
  }
 },
 "nbformat": 4,
 "nbformat_minor": 5
}
