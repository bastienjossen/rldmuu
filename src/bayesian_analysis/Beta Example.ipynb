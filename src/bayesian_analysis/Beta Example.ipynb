{
 "cells": [
  {
   "cell_type": "code",
   "execution_count": 2,
   "metadata": {
    "tags": []
   },
   "outputs": [],
   "source": [
    "## Here we are doing an example of the Beta distribution\n",
    "import numpy as np\n",
    "from scipy.stats import beta\n",
    "import matplotlib.pyplot as plt\n",
    "%matplotlib inline\n",
    "x = np.linspace(0, 1, 100)"
   ]
  },
  {
   "cell_type": "code",
   "execution_count": 3,
   "metadata": {},
   "outputs": [
    {
     "data": {
      "text/plain": [
       "[<matplotlib.lines.Line2D at 0x7ff6a96bd160>]"
      ]
     },
     "execution_count": 3,
     "metadata": {},
     "output_type": "execute_result"
    },
    {
     "data": {
      "image/png": "[encoded data removed]",
      "text/plain": [
       "<Figure size 432x288 with 1 Axes>"
      ]
     },
     "metadata": {
      "needs_background": "light"
     },
     "output_type": "display_data"
    }
   ],
   "source": [
    "## Let us first plot the beta distribution for a few different values of the parameter!\n",
    "## The bernoulli distribution on {0,1} with parameter w, is st P(x=1) = w, P(x=0) = 1-w.\n",
    "## The Beta distribution can be used to specify a distribution on Bernoulli distribution parameters\n",
    "## Now our distribution family is {P_w|w \\in [0,1]}, where P_w is a bernoulli distr. with parameter w\n",
    "a = 1\n",
    "b = 1\n",
    "plt.plot(x, beta.pdf(x, a, b))\n",
    "## The mean of Beta is a/(a+b)"
   ]
  },
  {
   "cell_type": "code",
   "execution_count": 7,
   "metadata": {},
   "outputs": [
    {
     "data": {
      "text/plain": [
       "[<matplotlib.lines.Line2D at 0x7ff6a946c240>]"
      ]
     },
     "execution_count": 7,
     "metadata": {},
     "output_type": "execute_result"
    },
    {
     "data": {
      "image/png": "[encoded data removed]",
      "text/plain": [
       "<Figure size 432x288 with 1 Axes>"
      ]
     },
     "metadata": {
      "needs_background": "light"
     },
     "output_type": "display_data"
    }
   ],
   "source": [
    "# If we observe n_successes and n_failures then the posterior is a + n_successs, b + n_failures. \n",
    "# Note how the data has a bigger or smaller effect depending on the value of the prior parameters\n",
    "n_successes = 500\n",
    "n_failures = 500\n",
    "plt.plot(x, beta.pdf(x, a + n_successes, b + n_failures))\n",
    "# As we shall see in another example, it is easy to update this Bayesian model in an online manner."
   ]
  },
  {
   "cell_type": "code",
   "execution_count": null,
   "metadata": {},
   "outputs": [],
   "source": []
  }
 ],
 "metadata": {
  "kernelspec": {
   "display_name": "Python 3",
   "language": "python",
   "name": "python3"
  },
  "language_info": {
   "codemirror_mode": {
    "name": "ipython",
    "version": 3
   },
   "file_extension": ".py",
   "mimetype": "text/x-python",
   "name": "python",
   "nbconvert_exporter": "python",
   "pygments_lexer": "ipython3",
   "version": "3.6.9"
  }
 },
 "nbformat": 4,
 "nbformat_minor": 4
}
